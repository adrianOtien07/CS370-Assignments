{
 "nbformat": 4,
 "nbformat_minor": 0,
 "metadata": {
  "colab": {
   "provenance": []
  },
  "kernelspec": {
   "name": "python3",
   "language": "python",
   "display_name": "Python 3 (ipykernel)"
  },
  "language_info": {
   "name": "python"
  }
 },
 "cells": [
  {
   "cell_type": "code",
   "source": [
    "!pip install clearml pymongo requests beautifulsoup4"
   ],
   "metadata": {
    "colab": {
     "base_uri": "https://localhost:8080/"
    },
    "id": "S0fmF1MqQohj",
    "outputId": "57365c15-fd4d-43d1-f0e4-3af9def4adf0",
    "ExecuteTime": {
     "end_time": "2024-12-08T20:47:05.700482Z",
     "start_time": "2024-12-08T20:47:03.164487Z"
    }
   },
   "execution_count": 26,
   "outputs": [
    {
     "name": "stdout",
     "output_type": "stream",
     "text": [
      "Requirement already satisfied: clearml in c:\\python312\\lib\\site-packages (1.16.5)\n",
      "Requirement already satisfied: pymongo in c:\\python312\\lib\\site-packages (4.5.0)\n",
      "Requirement already satisfied: requests in c:\\python312\\lib\\site-packages (2.32.3)\n",
      "Requirement already satisfied: beautifulsoup4 in c:\\python312\\lib\\site-packages (4.12.3)\n",
      "Requirement already satisfied: attrs>=18.0 in c:\\python312\\lib\\site-packages (from clearml) (24.2.0)\n",
      "Requirement already satisfied: furl>=2.0.0 in c:\\python312\\lib\\site-packages (from clearml) (2.1.3)\n",
      "Requirement already satisfied: jsonschema>=2.6.0 in c:\\python312\\lib\\site-packages (from clearml) (4.23.0)\n",
      "Requirement already satisfied: numpy>=1.10 in c:\\python312\\lib\\site-packages (from clearml) (2.1.1)\n",
      "Requirement already satisfied: pathlib2>=2.3.0 in c:\\python312\\lib\\site-packages (from clearml) (2.3.7.post1)\n",
      "Requirement already satisfied: Pillow>=4.1.1 in c:\\python312\\lib\\site-packages (from clearml) (10.2.0)\n",
      "Requirement already satisfied: psutil>=3.4.2 in c:\\python312\\lib\\site-packages (from clearml) (6.1.0)\n",
      "Requirement already satisfied: pyparsing>=2.0.3 in c:\\python312\\lib\\site-packages (from clearml) (3.0.9)\n",
      "Requirement already satisfied: python-dateutil>=2.6.1 in c:\\python312\\lib\\site-packages (from clearml) (2.9.0.post0)\n",
      "Requirement already satisfied: PyYAML>=3.12 in c:\\python312\\lib\\site-packages (from clearml) (6.0.2)\n",
      "Requirement already satisfied: six>=1.16.0 in c:\\python312\\lib\\site-packages (from clearml) (1.17.0)\n",
      "Requirement already satisfied: urllib3>=1.21.1 in c:\\python312\\lib\\site-packages (from clearml) (2.2.3)\n",
      "Requirement already satisfied: pyjwt<2.9.0,>=2.4.0 in c:\\python312\\lib\\site-packages (from clearml) (2.4.0)\n",
      "Requirement already satisfied: referencing<0.40 in c:\\python312\\lib\\site-packages (from clearml) (0.35.1)\n",
      "Requirement already satisfied: dnspython<3.0.0,>=1.16.0 in c:\\python312\\lib\\site-packages (from pymongo) (2.7.0)\n",
      "Requirement already satisfied: charset-normalizer<4,>=2 in c:\\python312\\lib\\site-packages (from requests) (3.4.0)\n",
      "Requirement already satisfied: idna<4,>=2.5 in c:\\python312\\lib\\site-packages (from requests) (3.10)\n",
      "Requirement already satisfied: certifi>=2017.4.17 in c:\\python312\\lib\\site-packages (from requests) (2024.8.30)\n",
      "Requirement already satisfied: soupsieve>1.2 in c:\\python312\\lib\\site-packages (from beautifulsoup4) (2.6)\n",
      "Requirement already satisfied: orderedmultidict>=1.0.1 in c:\\python312\\lib\\site-packages (from furl>=2.0.0->clearml) (1.0.1)\n",
      "Requirement already satisfied: jsonschema-specifications>=2023.03.6 in c:\\python312\\lib\\site-packages (from jsonschema>=2.6.0->clearml) (2024.10.1)\n",
      "Requirement already satisfied: rpds-py>=0.7.1 in c:\\python312\\lib\\site-packages (from jsonschema>=2.6.0->clearml) (0.22.3)\n"
     ]
    }
   ]
  },
  {
   "cell_type": "code",
   "outputs": [
    {
     "name": "stdout",
     "output_type": "stream",
     "text": [
      "Requirement already satisfied: urllib3 in c:\\python312\\lib\\site-packages (2.2.3)\n"
     ]
    }
   ],
   "source": [
    "!pip install urllib3 "
   ],
   "metadata": {
    "collapsed": false,
    "ExecuteTime": {
     "end_time": "2024-12-08T20:47:07.862213Z",
     "start_time": "2024-12-08T20:47:05.702288Z"
    }
   },
   "execution_count": 27
  },
  {
   "cell_type": "code",
   "source": [
    "from pymongo import MongoClient\n",
    "\n",
    "# Connect to MongoDB\n",
    "client = MongoClient(\"mongodb://localhost:27017/\")\n",
    "db = client[\"rag_system\"]\n",
    "collection = db[\"raw_data\"]\n"
   ],
   "metadata": {
    "id": "2N_1DrWHQrAU",
    "ExecuteTime": {
     "end_time": "2024-12-08T20:47:07.870529Z",
     "start_time": "2024-12-08T20:47:07.863289Z"
    }
   },
   "execution_count": 28,
   "outputs": []
  },
  {
   "cell_type": "code",
   "source": [
    "import requests\n",
    "from bs4 import BeautifulSoup\n",
    "\n",
    "# Function to fetch GitHub documentation\n",
    "def fetch_github_docs():\n",
    "    urls = [\n",
    "        \"https://github.com/ros2/ros2_documentation.git\",\"https://github.com/gazebosim/gz-sim.git\"  # Add more URLs as needed\n",
    "    ]\n",
    "    for url in urls:\n",
    "        response = requests.get(url)\n",
    "        if response.status_code == 200:\n",
    "            content = BeautifulSoup(response.text, \"html.parser\").prettify()\n",
    "            collection.insert_one({\"type\": \"github\", \"url\": url, \"content\": content})\n",
    "            print(f\"Ingested: {url}\")\n",
    "        else:\n",
    "            print(f\"Failed to fetch: {url}\")\n",
    "\n",
    "# Run the GitHub ingestion\n",
    "fetch_github_docs()\n",
    "\n",
    "# Function to fetch YouTube links\n",
    "def fetch_youtube_links():\n",
    "    youtube_urls = [\n",
    "        \"https://www.youtube.com/watch?v=dQw4w9WgXcQ\",\"https://www.youtube.com/watch?v=_qQAfTmB5wc&ab_channel=MouadBoumediene-HobbyCoding\"  # Replace with relevant URLs\n",
    "    ]\n",
    "    for url in youtube_urls:\n",
    "        collection.insert_one({\"type\": \"youtube\", \"url\": url})\n",
    "        print(f\"Ingested: {url}\")\n",
    "\n",
    "# Run the YouTube ingestion\n",
    "fetch_youtube_links()\n",
    "\n"
   ],
   "metadata": {
    "id": "3-7YpvWAKdYk",
    "ExecuteTime": {
     "end_time": "2024-12-08T20:47:08.815238Z",
     "start_time": "2024-12-08T20:47:07.872968Z"
    }
   },
   "execution_count": 29,
   "outputs": [
    {
     "name": "stdout",
     "output_type": "stream",
     "text": [
      "Ingested: https://github.com/ros2/ros2_documentation.git\n",
      "Ingested: https://github.com/gazebosim/gz-sim.git\n",
      "Ingested: https://www.youtube.com/watch?v=dQw4w9WgXcQ\n",
      "Ingested: https://www.youtube.com/watch?v=_qQAfTmB5wc&ab_channel=MouadBoumediene-HobbyCoding\n"
     ]
    }
   ]
  },
  {
   "cell_type": "code",
   "source": [
    "# Query MongoDB to retrieve all URLs\n",
    "documents = collection.find()\n",
    "urls = [doc[\"url\"] for doc in documents]\n",
    "\n",
    "print(\"Ingested URLs:\")\n",
    "for url in urls:\n",
    "    print(url)\n"
   ],
   "metadata": {
    "id": "fQhT28okQ3cP",
    "ExecuteTime": {
     "end_time": "2024-12-08T20:47:08.908695Z",
     "start_time": "2024-12-08T20:47:08.816331Z"
    }
   },
   "execution_count": 30,
   "outputs": [
    {
     "name": "stdout",
     "output_type": "stream",
     "text": [
      "Ingested URLs:\n",
      "https://www.youtube.com/watch?v=dQw4w9WgXcQ\n",
      "https://github.com/gazebosim/gz-sim.git\n",
      "https://www.youtube.com/watch?v=dQw4w9WgXcQ\n",
      "https://www.youtube.com/watch?v=_qQAfTmB5wc&ab_channel=MouadBoumediene-HobbyCoding\n",
      "https://github.com/ros2/ros2_documentation.git\n",
      "https://github.com/gazebosim/gz-sim.git\n",
      "https://www.youtube.com/watch?v=dQw4w9WgXcQ\n",
      "https://www.youtube.com/watch?v=_qQAfTmB5wc&ab_channel=MouadBoumediene-HobbyCoding\n",
      "https://github.com/ros2/ros2_documentation.git\n",
      "https://github.com/gazebosim/gz-sim.git\n",
      "https://www.youtube.com/watch?v=dQw4w9WgXcQ\n",
      "https://www.youtube.com/watch?v=_qQAfTmB5wc&ab_channel=MouadBoumediene-HobbyCoding\n",
      "https://github.com/ros2/ros2_documentation.git\n",
      "https://github.com/gazebosim/gz-sim.git\n",
      "https://www.youtube.com/watch?v=dQw4w9WgXcQ\n",
      "https://www.youtube.com/watch?v=_qQAfTmB5wc&ab_channel=MouadBoumediene-HobbyCoding\n",
      "https://github.com/ros2/ros2_documentation.git\n",
      "https://github.com/gazebosim/gz-sim.git\n",
      "https://www.youtube.com/watch?v=dQw4w9WgXcQ\n",
      "https://www.youtube.com/watch?v=_qQAfTmB5wc&ab_channel=MouadBoumediene-HobbyCoding\n",
      "https://github.com/ros2/ros2_documentation.git\n",
      "https://github.com/gazebosim/gz-sim.git\n",
      "https://www.youtube.com/watch?v=dQw4w9WgXcQ\n",
      "https://www.youtube.com/watch?v=_qQAfTmB5wc&ab_channel=MouadBoumediene-HobbyCoding\n"
     ]
    }
   ]
  },
  {
   "cell_type": "code",
   "outputs": [
    {
     "ename": "TypeError",
     "evalue": "Task.query_tasks() got an unexpected keyword argument 'status'",
     "output_type": "error",
     "traceback": [
      "\u001B[1;31m---------------------------------------------------------------------------\u001B[0m",
      "\u001B[1;31mTypeError\u001B[0m                                 Traceback (most recent call last)",
      "Cell \u001B[1;32mIn[38], line 4\u001B[0m\n\u001B[0;32m      1\u001B[0m \u001B[38;5;28;01mfrom\u001B[39;00m \u001B[38;5;21;01mclearml\u001B[39;00m \u001B[38;5;28;01mimport\u001B[39;00m Task\n\u001B[0;32m      3\u001B[0m \u001B[38;5;66;03m# Fetch tasks from the ClearML server\u001B[39;00m\n\u001B[1;32m----> 4\u001B[0m tasks \u001B[38;5;241m=\u001B[39m \u001B[43mTask\u001B[49m\u001B[38;5;241;43m.\u001B[39;49m\u001B[43mquery_tasks\u001B[49m\u001B[43m(\u001B[49m\u001B[43mstatus\u001B[49m\u001B[38;5;241;43m=\u001B[39;49m\u001B[43m[\u001B[49m\u001B[38;5;124;43m'\u001B[39;49m\u001B[38;5;124;43mcompleted\u001B[39;49m\u001B[38;5;124;43m'\u001B[39;49m\u001B[43m,\u001B[49m\u001B[43m \u001B[49m\u001B[38;5;124;43m'\u001B[39;49m\u001B[38;5;124;43min_progress\u001B[39;49m\u001B[38;5;124;43m'\u001B[39;49m\u001B[43m]\u001B[49m\u001B[43m)\u001B[49m\n\u001B[0;32m      5\u001B[0m \u001B[38;5;28;01mfor\u001B[39;00m task \u001B[38;5;129;01min\u001B[39;00m tasks:\n\u001B[0;32m      6\u001B[0m     \u001B[38;5;28mprint\u001B[39m(\u001B[38;5;124mf\u001B[39m\u001B[38;5;124m\"\u001B[39m\u001B[38;5;124mTask ID: \u001B[39m\u001B[38;5;132;01m{\u001B[39;00mtask\u001B[38;5;241m.\u001B[39mid\u001B[38;5;132;01m}\u001B[39;00m\u001B[38;5;124m, Task Name: \u001B[39m\u001B[38;5;132;01m{\u001B[39;00mtask\u001B[38;5;241m.\u001B[39mname\u001B[38;5;132;01m}\u001B[39;00m\u001B[38;5;124m, Status: \u001B[39m\u001B[38;5;132;01m{\u001B[39;00mtask\u001B[38;5;241m.\u001B[39mstatus\u001B[38;5;132;01m}\u001B[39;00m\u001B[38;5;124m\"\u001B[39m)\n",
      "\u001B[1;31mTypeError\u001B[0m: Task.query_tasks() got an unexpected keyword argument 'status'"
     ]
    }
   ],
   "source": [
    "from clearml import Task\n",
    "\n",
    "# Fetch tasks from the ClearML server\n",
    "tasks = Task.query_tasks(status=['completed', 'in_progress'])\n",
    "for task in tasks:\n",
    "    print(f\"Task ID: {task.id}, Task Name: {task.name}, Status: {task.status}\")\n"
   ],
   "metadata": {
    "collapsed": false,
    "ExecuteTime": {
     "end_time": "2024-12-08T21:31:53.329584Z",
     "start_time": "2024-12-08T21:31:53.268463Z"
    }
   },
   "execution_count": 38
  },
  {
   "cell_type": "code",
   "outputs": [
    {
     "ename": "MissingConfigError",
     "evalue": "It seems ClearML is not configured on this machine!\nTo get started with ClearML, setup your own 'clearml-server' or create a free account at https://app.clear.ml\nSetup instructions can be found here: https://clear.ml/docs",
     "output_type": "error",
     "traceback": [
      "\u001B[1;31m---------------------------------------------------------------------------\u001B[0m",
      "\u001B[1;31mMissingConfigError\u001B[0m                        Traceback (most recent call last)",
      "Cell \u001B[1;32mIn[34], line 4\u001B[0m\n\u001B[0;32m      1\u001B[0m \u001B[38;5;28;01mfrom\u001B[39;00m \u001B[38;5;21;01mclearml\u001B[39;00m \u001B[38;5;28;01mimport\u001B[39;00m Task\n\u001B[0;32m      3\u001B[0m \u001B[38;5;66;03m# Initialize ClearML Task\u001B[39;00m\n\u001B[1;32m----> 4\u001B[0m task \u001B[38;5;241m=\u001B[39m \u001B[43mTask\u001B[49m\u001B[38;5;241;43m.\u001B[39;49m\u001B[43minit\u001B[49m\u001B[43m(\u001B[49m\u001B[43mproject_name\u001B[49m\u001B[38;5;241;43m=\u001B[39;49m\u001B[38;5;124;43m\"\u001B[39;49m\u001B[38;5;124;43mRAG_System\u001B[39;49m\u001B[38;5;124;43m\"\u001B[39;49m\u001B[43m,\u001B[49m\u001B[43m \u001B[49m\u001B[43mtask_name\u001B[49m\u001B[38;5;241;43m=\u001B[39;49m\u001B[38;5;124;43m\"\u001B[39;49m\u001B[38;5;124;43mETL Pipeline\u001B[39;49m\u001B[38;5;124;43m\"\u001B[39;49m\u001B[43m)\u001B[49m\n\u001B[0;32m      6\u001B[0m \u001B[38;5;66;03m# Log ingested URLs to ClearML\u001B[39;00m\n\u001B[0;32m      7\u001B[0m task\u001B[38;5;241m.\u001B[39mget_logger()\u001B[38;5;241m.\u001B[39mreport_text(\u001B[38;5;124m\"\u001B[39m\u001B[38;5;124mIngested URLs:\u001B[39m\u001B[38;5;130;01m\\n\u001B[39;00m\u001B[38;5;124m\"\u001B[39m \u001B[38;5;241m+\u001B[39m \u001B[38;5;124m\"\u001B[39m\u001B[38;5;130;01m\\n\u001B[39;00m\u001B[38;5;124m\"\u001B[39m\u001B[38;5;241m.\u001B[39mjoin(urls))\n",
      "File \u001B[1;32mC:\\Python312\\Lib\\site-packages\\clearml\\task.py:596\u001B[0m, in \u001B[0;36mTask.init\u001B[1;34m(cls, project_name, task_name, task_type, tags, reuse_last_task_id, continue_last_task, output_uri, auto_connect_arg_parser, auto_connect_frameworks, auto_resource_monitoring, auto_connect_streams, deferred_init)\u001B[0m\n\u001B[0;32m    594\u001B[0m \u001B[38;5;28;01melif\u001B[39;00m \u001B[38;5;129;01mnot\u001B[39;00m is_sub_process_task_id:\n\u001B[0;32m    595\u001B[0m     \u001B[38;5;28;01mtry\u001B[39;00m:\n\u001B[1;32m--> 596\u001B[0m         task \u001B[38;5;241m=\u001B[39m \u001B[38;5;28;43mcls\u001B[39;49m\u001B[38;5;241;43m.\u001B[39;49m\u001B[43m_create_dev_task\u001B[49m\u001B[43m(\u001B[49m\n\u001B[0;32m    597\u001B[0m \u001B[43m            \u001B[49m\u001B[43mdefault_project_name\u001B[49m\u001B[38;5;241;43m=\u001B[39;49m\u001B[43mproject_name\u001B[49m\u001B[43m,\u001B[49m\n\u001B[0;32m    598\u001B[0m \u001B[43m            \u001B[49m\u001B[43mdefault_task_name\u001B[49m\u001B[38;5;241;43m=\u001B[39;49m\u001B[43mtask_name\u001B[49m\u001B[43m,\u001B[49m\n\u001B[0;32m    599\u001B[0m \u001B[43m            \u001B[49m\u001B[43mdefault_task_type\u001B[49m\u001B[38;5;241;43m=\u001B[39;49m\u001B[43mtask_type\u001B[49m\u001B[43m,\u001B[49m\n\u001B[0;32m    600\u001B[0m \u001B[43m            \u001B[49m\u001B[43mtags\u001B[49m\u001B[38;5;241;43m=\u001B[39;49m\u001B[43mtags\u001B[49m\u001B[43m,\u001B[49m\n\u001B[0;32m    601\u001B[0m \u001B[43m            \u001B[49m\u001B[43mreuse_last_task_id\u001B[49m\u001B[38;5;241;43m=\u001B[39;49m\u001B[43mreuse_last_task_id\u001B[49m\u001B[43m,\u001B[49m\n\u001B[0;32m    602\u001B[0m \u001B[43m            \u001B[49m\u001B[43mcontinue_last_task\u001B[49m\u001B[38;5;241;43m=\u001B[39;49m\u001B[43mcontinue_last_task\u001B[49m\u001B[43m,\u001B[49m\n\u001B[0;32m    603\u001B[0m \u001B[43m            \u001B[49m\u001B[43mdetect_repo\u001B[49m\u001B[38;5;241;43m=\u001B[39;49m\u001B[38;5;28;43;01mFalse\u001B[39;49;00m\u001B[43m \u001B[49m\u001B[38;5;28;43;01mif\u001B[39;49;00m\u001B[43m \u001B[49m\u001B[43m(\u001B[49m\n\u001B[0;32m    604\u001B[0m \u001B[43m                    \u001B[49m\u001B[38;5;28;43misinstance\u001B[39;49m\u001B[43m(\u001B[49m\u001B[43mauto_connect_frameworks\u001B[49m\u001B[43m,\u001B[49m\u001B[43m \u001B[49m\u001B[38;5;28;43mdict\u001B[39;49m\u001B[43m)\u001B[49m\u001B[43m \u001B[49m\u001B[38;5;129;43;01mand\u001B[39;49;00m\n\u001B[0;32m    605\u001B[0m \u001B[43m                    \u001B[49m\u001B[38;5;129;43;01mnot\u001B[39;49;00m\u001B[43m \u001B[49m\u001B[43mauto_connect_frameworks\u001B[49m\u001B[38;5;241;43m.\u001B[39;49m\u001B[43mget\u001B[49m\u001B[43m(\u001B[49m\u001B[38;5;124;43m'\u001B[39;49m\u001B[38;5;124;43mdetect_repository\u001B[39;49m\u001B[38;5;124;43m'\u001B[39;49m\u001B[43m,\u001B[49m\u001B[43m \u001B[49m\u001B[38;5;28;43;01mTrue\u001B[39;49;00m\u001B[43m)\u001B[49m\u001B[43m)\u001B[49m\u001B[43m \u001B[49m\u001B[38;5;28;43;01melse\u001B[39;49;00m\u001B[43m \u001B[49m\u001B[38;5;28;43;01mTrue\u001B[39;49;00m\u001B[43m,\u001B[49m\n\u001B[0;32m    606\u001B[0m \u001B[43m            \u001B[49m\u001B[43mauto_connect_streams\u001B[49m\u001B[38;5;241;43m=\u001B[39;49m\u001B[43mauto_connect_streams\u001B[49m\u001B[43m,\u001B[49m\n\u001B[0;32m    607\u001B[0m \u001B[43m        \u001B[49m\u001B[43m)\u001B[49m\n\u001B[0;32m    608\u001B[0m         \u001B[38;5;66;03m# check if we are local rank 0 (local master),\u001B[39;00m\n\u001B[0;32m    609\u001B[0m         \u001B[38;5;66;03m# create an anchor with task ID for the other processes\u001B[39;00m\n\u001B[0;32m    610\u001B[0m         \u001B[38;5;28;01mif\u001B[39;00m _local_rank \u001B[38;5;241m==\u001B[39m \u001B[38;5;241m0\u001B[39m:\n",
      "File \u001B[1;32mC:\\Python312\\Lib\\site-packages\\clearml\\task.py:3956\u001B[0m, in \u001B[0;36mTask._create_dev_task\u001B[1;34m(cls, default_project_name, default_task_name, default_task_type, tags, reuse_last_task_id, continue_last_task, detect_repo, auto_connect_streams)\u001B[0m\n\u001B[0;32m   3954\u001B[0m \u001B[38;5;66;03m# create a new task\u001B[39;00m\n\u001B[0;32m   3955\u001B[0m \u001B[38;5;28;01mif\u001B[39;00m \u001B[38;5;129;01mnot\u001B[39;00m default_task_id:\n\u001B[1;32m-> 3956\u001B[0m     task \u001B[38;5;241m=\u001B[39m \u001B[38;5;28;43mcls\u001B[39;49m\u001B[43m(\u001B[49m\n\u001B[0;32m   3957\u001B[0m \u001B[43m        \u001B[49m\u001B[43mprivate\u001B[49m\u001B[38;5;241;43m=\u001B[39;49m\u001B[38;5;28;43mcls\u001B[39;49m\u001B[38;5;241;43m.\u001B[39;49m\u001B[43m__create_protection\u001B[49m\u001B[43m,\u001B[49m\n\u001B[0;32m   3958\u001B[0m \u001B[43m        \u001B[49m\u001B[43mproject_name\u001B[49m\u001B[38;5;241;43m=\u001B[39;49m\u001B[43mdefault_project_name\u001B[49m\u001B[43m,\u001B[49m\n\u001B[0;32m   3959\u001B[0m \u001B[43m        \u001B[49m\u001B[43mtask_name\u001B[49m\u001B[38;5;241;43m=\u001B[39;49m\u001B[43mdefault_task_name\u001B[49m\u001B[43m,\u001B[49m\n\u001B[0;32m   3960\u001B[0m \u001B[43m        \u001B[49m\u001B[43mtask_type\u001B[49m\u001B[38;5;241;43m=\u001B[39;49m\u001B[43mdefault_task_type\u001B[49m\u001B[43m,\u001B[49m\n\u001B[0;32m   3961\u001B[0m \u001B[43m        \u001B[49m\u001B[43mlog_to_backend\u001B[49m\u001B[38;5;241;43m=\u001B[39;49m\u001B[38;5;28;43;01mTrue\u001B[39;49;00m\u001B[43m,\u001B[49m\n\u001B[0;32m   3962\u001B[0m \u001B[43m    \u001B[49m\u001B[43m)\u001B[49m\n\u001B[0;32m   3963\u001B[0m     \u001B[38;5;66;03m# no need to reload yet, we clear this before the end of the function\u001B[39;00m\n\u001B[0;32m   3964\u001B[0m     task\u001B[38;5;241m.\u001B[39m_reload_skip_flag \u001B[38;5;241m=\u001B[39m \u001B[38;5;28;01mTrue\u001B[39;00m\n",
      "File \u001B[1;32mC:\\Python312\\Lib\\site-packages\\clearml\\task.py:211\u001B[0m, in \u001B[0;36mTask.__init__\u001B[1;34m(self, private, **kwargs)\u001B[0m\n\u001B[0;32m    207\u001B[0m     \u001B[38;5;28;01mraise\u001B[39;00m UsageError(\n\u001B[0;32m    208\u001B[0m         \u001B[38;5;124m'\u001B[39m\u001B[38;5;124mTask object cannot be instantiated externally, use Task.current_task() or Task.get_task(...)\u001B[39m\u001B[38;5;124m'\u001B[39m)\n\u001B[0;32m    209\u001B[0m \u001B[38;5;28mself\u001B[39m\u001B[38;5;241m.\u001B[39m_repo_detect_lock \u001B[38;5;241m=\u001B[39m threading\u001B[38;5;241m.\u001B[39mRLock()\n\u001B[1;32m--> 211\u001B[0m \u001B[38;5;28;43msuper\u001B[39;49m\u001B[43m(\u001B[49m\u001B[43mTask\u001B[49m\u001B[43m,\u001B[49m\u001B[43m \u001B[49m\u001B[38;5;28;43mself\u001B[39;49m\u001B[43m)\u001B[49m\u001B[38;5;241;43m.\u001B[39;49m\u001B[38;5;21;43m__init__\u001B[39;49m\u001B[43m(\u001B[49m\u001B[38;5;241;43m*\u001B[39;49m\u001B[38;5;241;43m*\u001B[39;49m\u001B[43mkwargs\u001B[49m\u001B[43m)\u001B[49m\n\u001B[0;32m    212\u001B[0m \u001B[38;5;28mself\u001B[39m\u001B[38;5;241m.\u001B[39m_arguments \u001B[38;5;241m=\u001B[39m _Arguments(\u001B[38;5;28mself\u001B[39m)\n\u001B[0;32m    213\u001B[0m \u001B[38;5;28mself\u001B[39m\u001B[38;5;241m.\u001B[39m_logger \u001B[38;5;241m=\u001B[39m \u001B[38;5;28;01mNone\u001B[39;00m\n",
      "File \u001B[1;32mC:\\Python312\\Lib\\site-packages\\clearml\\backend_interface\\task\\task.py:167\u001B[0m, in \u001B[0;36mTask.__init__\u001B[1;34m(self, session, task_id, log, project_name, task_name, task_type, log_to_backend, raise_on_validation_errors, force_create)\u001B[0m\n\u001B[0;32m    165\u001B[0m task_id \u001B[38;5;241m=\u001B[39m \u001B[38;5;28mself\u001B[39m\u001B[38;5;241m.\u001B[39m_resolve_task_id(task_id, log\u001B[38;5;241m=\u001B[39mlog) \u001B[38;5;28;01mif\u001B[39;00m \u001B[38;5;129;01mnot\u001B[39;00m force_create \u001B[38;5;28;01melse\u001B[39;00m \u001B[38;5;28;01mNone\u001B[39;00m\n\u001B[0;32m    166\u001B[0m \u001B[38;5;28mself\u001B[39m\u001B[38;5;241m.\u001B[39m__edit_lock \u001B[38;5;241m=\u001B[39m \u001B[38;5;28;01mNone\u001B[39;00m\n\u001B[1;32m--> 167\u001B[0m \u001B[38;5;28;43msuper\u001B[39;49m\u001B[43m(\u001B[49m\u001B[43mTask\u001B[49m\u001B[43m,\u001B[49m\u001B[43m \u001B[49m\u001B[38;5;28;43mself\u001B[39;49m\u001B[43m)\u001B[49m\u001B[38;5;241;43m.\u001B[39;49m\u001B[38;5;21;43m__init__\u001B[39;49m\u001B[43m(\u001B[49m\u001B[38;5;28;43mid\u001B[39;49m\u001B[38;5;241;43m=\u001B[39;49m\u001B[43mtask_id\u001B[49m\u001B[43m,\u001B[49m\u001B[43m \u001B[49m\u001B[43msession\u001B[49m\u001B[38;5;241;43m=\u001B[39;49m\u001B[43msession\u001B[49m\u001B[43m,\u001B[49m\u001B[43m \u001B[49m\u001B[43mlog\u001B[49m\u001B[38;5;241;43m=\u001B[39;49m\u001B[43mlog\u001B[49m\u001B[43m)\u001B[49m\n\u001B[0;32m    168\u001B[0m \u001B[38;5;28mself\u001B[39m\u001B[38;5;241m.\u001B[39m_project_name \u001B[38;5;241m=\u001B[39m \u001B[38;5;28;01mNone\u001B[39;00m\n\u001B[0;32m    169\u001B[0m \u001B[38;5;28mself\u001B[39m\u001B[38;5;241m.\u001B[39m_storage_uri \u001B[38;5;241m=\u001B[39m \u001B[38;5;28;01mNone\u001B[39;00m\n",
      "File \u001B[1;32mC:\\Python312\\Lib\\site-packages\\clearml\\backend_interface\\base.py:149\u001B[0m, in \u001B[0;36mIdObjectBase.__init__\u001B[1;34m(self, id, session, log, **kwargs)\u001B[0m\n\u001B[0;32m    148\u001B[0m \u001B[38;5;28;01mdef\u001B[39;00m \u001B[38;5;21m__init__\u001B[39m(\u001B[38;5;28mself\u001B[39m, \u001B[38;5;28mid\u001B[39m, session\u001B[38;5;241m=\u001B[39m\u001B[38;5;28;01mNone\u001B[39;00m, log\u001B[38;5;241m=\u001B[39m\u001B[38;5;28;01mNone\u001B[39;00m, \u001B[38;5;241m*\u001B[39m\u001B[38;5;241m*\u001B[39mkwargs):\n\u001B[1;32m--> 149\u001B[0m     \u001B[38;5;28;43msuper\u001B[39;49m\u001B[43m(\u001B[49m\u001B[43mIdObjectBase\u001B[49m\u001B[43m,\u001B[49m\u001B[43m \u001B[49m\u001B[38;5;28;43mself\u001B[39;49m\u001B[43m)\u001B[49m\u001B[38;5;241;43m.\u001B[39;49m\u001B[38;5;21;43m__init__\u001B[39;49m\u001B[43m(\u001B[49m\u001B[43msession\u001B[49m\u001B[43m,\u001B[49m\u001B[43m \u001B[49m\u001B[43mlog\u001B[49m\u001B[43m,\u001B[49m\u001B[43m \u001B[49m\u001B[38;5;241;43m*\u001B[39;49m\u001B[38;5;241;43m*\u001B[39;49m\u001B[43mkwargs\u001B[49m\u001B[43m)\u001B[49m\n\u001B[0;32m    150\u001B[0m     \u001B[38;5;28mself\u001B[39m\u001B[38;5;241m.\u001B[39m_data \u001B[38;5;241m=\u001B[39m \u001B[38;5;28;01mNone\u001B[39;00m\n\u001B[0;32m    151\u001B[0m     \u001B[38;5;28mself\u001B[39m\u001B[38;5;241m.\u001B[39m_id \u001B[38;5;241m=\u001B[39m \u001B[38;5;28;01mNone\u001B[39;00m\n",
      "File \u001B[1;32mC:\\Python312\\Lib\\site-packages\\clearml\\backend_interface\\base.py:41\u001B[0m, in \u001B[0;36mInterfaceBase.__init__\u001B[1;34m(self, session, log, **kwargs)\u001B[0m\n\u001B[0;32m     39\u001B[0m \u001B[38;5;28;01mdef\u001B[39;00m \u001B[38;5;21m__init__\u001B[39m(\u001B[38;5;28mself\u001B[39m, session\u001B[38;5;241m=\u001B[39m\u001B[38;5;28;01mNone\u001B[39;00m, log\u001B[38;5;241m=\u001B[39m\u001B[38;5;28;01mNone\u001B[39;00m, \u001B[38;5;241m*\u001B[39m\u001B[38;5;241m*\u001B[39mkwargs):\n\u001B[0;32m     40\u001B[0m     \u001B[38;5;28msuper\u001B[39m(InterfaceBase, \u001B[38;5;28mself\u001B[39m)\u001B[38;5;241m.\u001B[39m\u001B[38;5;21m__init__\u001B[39m()\n\u001B[1;32m---> 41\u001B[0m     \u001B[38;5;28mself\u001B[39m\u001B[38;5;241m.\u001B[39m_session \u001B[38;5;241m=\u001B[39m session \u001B[38;5;129;01mor\u001B[39;00m \u001B[38;5;28;43mself\u001B[39;49m\u001B[38;5;241;43m.\u001B[39;49m\u001B[43m_get_default_session\u001B[49m\u001B[43m(\u001B[49m\u001B[43m)\u001B[49m\n\u001B[0;32m     42\u001B[0m     \u001B[38;5;28mself\u001B[39m\u001B[38;5;241m.\u001B[39m_log \u001B[38;5;241m=\u001B[39m log \u001B[38;5;129;01mor\u001B[39;00m \u001B[38;5;28mself\u001B[39m\u001B[38;5;241m.\u001B[39m_create_log()\n",
      "File \u001B[1;32mC:\\Python312\\Lib\\site-packages\\clearml\\backend_interface\\base.py:119\u001B[0m, in \u001B[0;36mInterfaceBase._get_default_session\u001B[1;34m(cls)\u001B[0m\n\u001B[0;32m    116\u001B[0m \u001B[38;5;129m@classmethod\u001B[39m\n\u001B[0;32m    117\u001B[0m \u001B[38;5;28;01mdef\u001B[39;00m \u001B[38;5;21m_get_default_session\u001B[39m(\u001B[38;5;28mcls\u001B[39m):\n\u001B[0;32m    118\u001B[0m     \u001B[38;5;28;01mif\u001B[39;00m \u001B[38;5;129;01mnot\u001B[39;00m InterfaceBase\u001B[38;5;241m.\u001B[39m_default_session:\n\u001B[1;32m--> 119\u001B[0m         InterfaceBase\u001B[38;5;241m.\u001B[39m_default_session \u001B[38;5;241m=\u001B[39m \u001B[43mSession\u001B[49m\u001B[43m(\u001B[49m\n\u001B[0;32m    120\u001B[0m \u001B[43m            \u001B[49m\u001B[43minitialize_logging\u001B[49m\u001B[38;5;241;43m=\u001B[39;49m\u001B[38;5;28;43;01mFalse\u001B[39;49;00m\u001B[43m,\u001B[49m\n\u001B[0;32m    121\u001B[0m \u001B[43m            \u001B[49m\u001B[43mconfig\u001B[49m\u001B[38;5;241;43m=\u001B[39;49m\u001B[43mconfig_obj\u001B[49m\u001B[43m,\u001B[49m\n\u001B[0;32m    122\u001B[0m \u001B[43m            \u001B[49m\u001B[43mapi_key\u001B[49m\u001B[38;5;241;43m=\u001B[39;49m\u001B[43mENV_ACCESS_KEY\u001B[49m\u001B[38;5;241;43m.\u001B[39;49m\u001B[43mget\u001B[49m\u001B[43m(\u001B[49m\u001B[43m)\u001B[49m\u001B[43m,\u001B[49m\n\u001B[0;32m    123\u001B[0m \u001B[43m            \u001B[49m\u001B[43msecret_key\u001B[49m\u001B[38;5;241;43m=\u001B[39;49m\u001B[43mENV_SECRET_KEY\u001B[49m\u001B[38;5;241;43m.\u001B[39;49m\u001B[43mget\u001B[49m\u001B[43m(\u001B[49m\u001B[43m)\u001B[49m\u001B[43m,\u001B[49m\n\u001B[0;32m    124\u001B[0m \u001B[43m        \u001B[49m\u001B[43m)\u001B[49m\n\u001B[0;32m    125\u001B[0m     \u001B[38;5;28;01mreturn\u001B[39;00m InterfaceBase\u001B[38;5;241m.\u001B[39m_default_session\n",
      "File \u001B[1;32mC:\\Python312\\Lib\\site-packages\\clearml\\backend_api\\session\\session.py:161\u001B[0m, in \u001B[0;36mSession.__init__\u001B[1;34m(self, worker, api_key, secret_key, host, logger, verbose, config, http_retries_config, **kwargs)\u001B[0m\n\u001B[0;32m    158\u001B[0m     \u001B[38;5;28;01mfrom\u001B[39;00m \u001B[38;5;21;01mclearml\u001B[39;00m\u001B[38;5;21;01m.\u001B[39;00m\u001B[38;5;21;01mconfig\u001B[39;00m \u001B[38;5;28;01mimport\u001B[39;00m ConfigWrapper\n\u001B[0;32m    159\u001B[0m     \u001B[38;5;28mself\u001B[39m\u001B[38;5;241m.\u001B[39mconfig \u001B[38;5;241m=\u001B[39m ConfigWrapper\u001B[38;5;241m.\u001B[39m_init()\n\u001B[1;32m--> 161\u001B[0m \u001B[38;5;28;43mself\u001B[39;49m\u001B[38;5;241;43m.\u001B[39;49m\u001B[43m_connect\u001B[49m\u001B[43m(\u001B[49m\u001B[43m)\u001B[49m\n",
      "File \u001B[1;32mC:\\Python312\\Lib\\site-packages\\clearml\\backend_api\\session\\session.py:224\u001B[0m, in \u001B[0;36mSession._connect\u001B[1;34m(self)\u001B[0m\n\u001B[0;32m    219\u001B[0m     \u001B[38;5;28mself\u001B[39m\u001B[38;5;241m.\u001B[39m__secret_key \u001B[38;5;241m=\u001B[39m \u001B[38;5;28mself\u001B[39m\u001B[38;5;241m.\u001B[39m__init_secret_key \u001B[38;5;129;01mor\u001B[39;00m ENV_SECRET_KEY\u001B[38;5;241m.\u001B[39mget(\n\u001B[0;32m    220\u001B[0m         default\u001B[38;5;241m=\u001B[39m(\u001B[38;5;28mself\u001B[39m\u001B[38;5;241m.\u001B[39mconfig\u001B[38;5;241m.\u001B[39mget(\u001B[38;5;124m\"\u001B[39m\u001B[38;5;124mapi.credentials.secret_key\u001B[39m\u001B[38;5;124m\"\u001B[39m, \u001B[38;5;28;01mNone\u001B[39;00m) \u001B[38;5;129;01mor\u001B[39;00m \u001B[38;5;28mself\u001B[39m\u001B[38;5;241m.\u001B[39mdefault_secret)\n\u001B[0;32m    221\u001B[0m     )\n\u001B[0;32m    223\u001B[0m \u001B[38;5;28;01mif\u001B[39;00m \u001B[38;5;129;01mnot\u001B[39;00m \u001B[38;5;28mself\u001B[39m\u001B[38;5;241m.\u001B[39msecret_key \u001B[38;5;129;01mand\u001B[39;00m \u001B[38;5;129;01mnot\u001B[39;00m \u001B[38;5;28mself\u001B[39m\u001B[38;5;241m.\u001B[39maccess_key \u001B[38;5;129;01mand\u001B[39;00m \u001B[38;5;129;01mnot\u001B[39;00m \u001B[38;5;28mself\u001B[39m\u001B[38;5;241m.\u001B[39m__auth_token:\n\u001B[1;32m--> 224\u001B[0m     \u001B[38;5;28;01mraise\u001B[39;00m MissingConfigError()\n\u001B[0;32m    226\u001B[0m \u001B[38;5;28msuper\u001B[39m(Session, \u001B[38;5;28mself\u001B[39m)\u001B[38;5;241m.\u001B[39m\u001B[38;5;21m__init__\u001B[39m(\n\u001B[0;32m    227\u001B[0m     \u001B[38;5;241m*\u001B[39m\u001B[38;5;241m*\u001B[39m\u001B[38;5;28mself\u001B[39m\u001B[38;5;241m.\u001B[39m__token_manager_kwargs,\n\u001B[0;32m    228\u001B[0m     token_expiration_threshold_sec\u001B[38;5;241m=\u001B[39mtoken_expiration_threshold_sec,\n\u001B[0;32m    229\u001B[0m     req_token_expiration_sec\u001B[38;5;241m=\u001B[39mreq_token_expiration_sec\n\u001B[0;32m    230\u001B[0m )\n\u001B[0;32m    231\u001B[0m \u001B[38;5;28mself\u001B[39m\u001B[38;5;241m.\u001B[39mrefresh_token()\n",
      "\u001B[1;31mMissingConfigError\u001B[0m: It seems ClearML is not configured on this machine!\nTo get started with ClearML, setup your own 'clearml-server' or create a free account at https://app.clear.ml\nSetup instructions can be found here: https://clear.ml/docs"
     ]
    }
   ],
   "source": [
    "from clearml import Task\n",
    "\n",
    "# Initialize ClearML Task\n",
    "task = Task.init(project_name=\"RAG_System\", task_name=\"ETL Pipeline\")\n",
    "\n",
    "# Log ingested URLs to ClearML\n",
    "task.get_logger().report_text(\"Ingested URLs:\\n\" + \"\\n\".join(urls))\n"
   ],
   "metadata": {
    "id": "e3VlUy4PRB7P",
    "ExecuteTime": {
     "end_time": "2024-12-08T20:48:30.378958Z",
     "start_time": "2024-12-08T20:48:30.255682Z"
    }
   },
   "execution_count": 34
  }
 ]
}
