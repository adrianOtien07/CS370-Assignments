{
 "nbformat": 4,
 "nbformat_minor": 0,
 "metadata": {
  "colab": {
   "provenance": []
  },
  "kernelspec": {
   "name": "python3",
   "language": "python",
   "display_name": "Python 3 (ipykernel)"
  },
  "language_info": {
   "name": "python"
  }
 },
 "cells": [
  {
   "cell_type": "code",
   "source": [
    "!pip install clearml pymongo requests beautifulsoup4"
   ],
   "metadata": {
    "colab": {
     "base_uri": "https://localhost:8080/"
    },
    "id": "S0fmF1MqQohj",
    "outputId": "57365c15-fd4d-43d1-f0e4-3af9def4adf0",
    "ExecuteTime": {
     "end_time": "2024-12-09T03:32:49.907917Z",
     "start_time": "2024-12-09T03:32:45.453052Z"
    }
   },
   "execution_count": 1,
   "outputs": [
    {
     "name": "stdout",
     "output_type": "stream",
     "text": [
      "Requirement already satisfied: clearml in c:\\python312\\lib\\site-packages (1.16.5)\n",
      "Requirement already satisfied: pymongo in c:\\python312\\lib\\site-packages (4.5.0)\n",
      "Requirement already satisfied: requests in c:\\python312\\lib\\site-packages (2.32.3)\n",
      "Requirement already satisfied: beautifulsoup4 in c:\\python312\\lib\\site-packages (4.12.3)\n",
      "Requirement already satisfied: attrs>=18.0 in c:\\python312\\lib\\site-packages (from clearml) (24.2.0)\n",
      "Requirement already satisfied: furl>=2.0.0 in c:\\python312\\lib\\site-packages (from clearml) (2.1.3)\n",
      "Requirement already satisfied: jsonschema>=2.6.0 in c:\\python312\\lib\\site-packages (from clearml) (4.23.0)\n",
      "Requirement already satisfied: numpy>=1.10 in c:\\python312\\lib\\site-packages (from clearml) (2.1.1)\n",
      "Requirement already satisfied: pathlib2>=2.3.0 in c:\\python312\\lib\\site-packages (from clearml) (2.3.7.post1)\n",
      "Requirement already satisfied: Pillow>=4.1.1 in c:\\python312\\lib\\site-packages (from clearml) (10.2.0)\n",
      "Requirement already satisfied: psutil>=3.4.2 in c:\\python312\\lib\\site-packages (from clearml) (6.1.0)\n",
      "Requirement already satisfied: pyparsing>=2.0.3 in c:\\python312\\lib\\site-packages (from clearml) (3.0.9)\n",
      "Requirement already satisfied: python-dateutil>=2.6.1 in c:\\python312\\lib\\site-packages (from clearml) (2.9.0.post0)\n",
      "Requirement already satisfied: PyYAML>=3.12 in c:\\python312\\lib\\site-packages (from clearml) (6.0.2)\n",
      "Requirement already satisfied: six>=1.16.0 in c:\\python312\\lib\\site-packages (from clearml) (1.17.0)\n",
      "Requirement already satisfied: urllib3>=1.21.1 in c:\\python312\\lib\\site-packages (from clearml) (2.2.3)\n",
      "Requirement already satisfied: pyjwt<2.9.0,>=2.4.0 in c:\\python312\\lib\\site-packages (from clearml) (2.4.0)\n",
      "Requirement already satisfied: referencing<0.40 in c:\\python312\\lib\\site-packages (from clearml) (0.35.1)\n",
      "Requirement already satisfied: dnspython<3.0.0,>=1.16.0 in c:\\python312\\lib\\site-packages (from pymongo) (2.7.0)\n",
      "Requirement already satisfied: charset-normalizer<4,>=2 in c:\\python312\\lib\\site-packages (from requests) (3.4.0)\n",
      "Requirement already satisfied: idna<4,>=2.5 in c:\\python312\\lib\\site-packages (from requests) (3.10)\n",
      "Requirement already satisfied: certifi>=2017.4.17 in c:\\python312\\lib\\site-packages (from requests) (2024.8.30)\n",
      "Requirement already satisfied: soupsieve>1.2 in c:\\python312\\lib\\site-packages (from beautifulsoup4) (2.6)\n",
      "Requirement already satisfied: orderedmultidict>=1.0.1 in c:\\python312\\lib\\site-packages (from furl>=2.0.0->clearml) (1.0.1)\n",
      "Requirement already satisfied: jsonschema-specifications>=2023.03.6 in c:\\python312\\lib\\site-packages (from jsonschema>=2.6.0->clearml) (2024.10.1)\n",
      "Requirement already satisfied: rpds-py>=0.7.1 in c:\\python312\\lib\\site-packages (from jsonschema>=2.6.0->clearml) (0.22.3)\n"
     ]
    }
   ]
  },
  {
   "cell_type": "code",
   "outputs": [
    {
     "name": "stdout",
     "output_type": "stream",
     "text": [
      "Requirement already satisfied: urllib3 in c:\\python312\\lib\\site-packages (2.2.3)\n"
     ]
    }
   ],
   "source": [
    "!pip install urllib3 "
   ],
   "metadata": {
    "collapsed": false,
    "ExecuteTime": {
     "end_time": "2024-12-09T03:32:54.363557Z",
     "start_time": "2024-12-09T03:32:49.913169Z"
    }
   },
   "execution_count": 2
  },
  {
   "cell_type": "code",
   "source": [
    "from pymongo import MongoClient\n",
    "\n",
    "# Connect to MongoDB\n",
    "client = MongoClient(\"mongodb://localhost:27017/\")\n",
    "db = client[\"rag_system\"]\n",
    "collection = db[\"raw_data\"]\n"
   ],
   "metadata": {
    "id": "2N_1DrWHQrAU",
    "ExecuteTime": {
     "end_time": "2024-12-09T03:32:55.262911Z",
     "start_time": "2024-12-09T03:32:54.366070Z"
    }
   },
   "execution_count": 3,
   "outputs": []
  },
  {
   "cell_type": "code",
   "source": [
    "import requests\n",
    "from bs4 import BeautifulSoup\n",
    "\n",
    "# Function to fetch GitHub documentation\n",
    "def fetch_github_docs():\n",
    "    urls = [\n",
    "        \"https://github.com/ros2/ros2_documentation.git\",\"https://github.com/gazebosim/gz-sim.git\"  \n",
    "    ]\n",
    "    for url in urls:\n",
    "        response = requests.get(url)\n",
    "        if response.status_code == 200:\n",
    "            content = BeautifulSoup(response.text, \"html.parser\").prettify()\n",
    "            collection.insert_one({\"type\": \"github\", \"url\": url, \"content\": content})\n",
    "            print(f\"Ingested: {url}\")\n",
    "        else:\n",
    "            print(f\"Failed to fetch: {url}\")\n",
    "\n",
    "\n",
    "fetch_github_docs()\n",
    "\n",
    "def fetch_youtube_links():\n",
    "    youtube_urls = [\n",
    "        \"https://www.youtube.com/watch?v=dQw4w9WgXcQ\",\"https://www.youtube.com/watch?v=_qQAfTmB5wc&ab_channel=MouadBoumediene-HobbyCoding\"  \n",
    "    ]\n",
    "    for url in youtube_urls:\n",
    "        collection.insert_one({\"type\": \"youtube\", \"url\": url})\n",
    "        print(f\"Ingested: {url}\")\n",
    "\n",
    "fetch_youtube_links()\n",
    "\n"
   ],
   "metadata": {
    "id": "3-7YpvWAKdYk",
    "ExecuteTime": {
     "end_time": "2024-12-09T03:32:57.456494Z",
     "start_time": "2024-12-09T03:32:55.265970Z"
    }
   },
   "execution_count": 4,
   "outputs": [
    {
     "name": "stdout",
     "output_type": "stream",
     "text": [
      "Ingested: https://github.com/ros2/ros2_documentation.git\n",
      "Ingested: https://github.com/gazebosim/gz-sim.git\n",
      "Ingested: https://www.youtube.com/watch?v=dQw4w9WgXcQ\n",
      "Ingested: https://www.youtube.com/watch?v=_qQAfTmB5wc&ab_channel=MouadBoumediene-HobbyCoding\n"
     ]
    }
   ]
  },
  {
   "cell_type": "code",
   "source": [
    "# Query MongoDB to retrieve all URLs\n",
    "documents = collection.find()\n",
    "urls = [doc[\"url\"] for doc in documents]\n",
    "\n",
    "print(\"Ingested URLs:\")\n",
    "for url in urls:\n",
    "    print(url)\n"
   ],
   "metadata": {
    "id": "fQhT28okQ3cP",
    "ExecuteTime": {
     "end_time": "2024-12-09T03:32:57.910891Z",
     "start_time": "2024-12-09T03:32:57.458647Z"
    }
   },
   "execution_count": 5,
   "outputs": [
    {
     "name": "stdout",
     "output_type": "stream",
     "text": [
      "Ingested URLs:\n",
      "https://www.youtube.com/watch?v=dQw4w9WgXcQ\n",
      "https://github.com/gazebosim/gz-sim.git\n",
      "https://www.youtube.com/watch?v=dQw4w9WgXcQ\n",
      "https://www.youtube.com/watch?v=_qQAfTmB5wc&ab_channel=MouadBoumediene-HobbyCoding\n",
      "https://github.com/ros2/ros2_documentation.git\n",
      "https://github.com/gazebosim/gz-sim.git\n",
      "https://www.youtube.com/watch?v=dQw4w9WgXcQ\n",
      "https://www.youtube.com/watch?v=_qQAfTmB5wc&ab_channel=MouadBoumediene-HobbyCoding\n",
      "https://github.com/ros2/ros2_documentation.git\n",
      "https://github.com/gazebosim/gz-sim.git\n",
      "https://www.youtube.com/watch?v=dQw4w9WgXcQ\n",
      "https://www.youtube.com/watch?v=_qQAfTmB5wc&ab_channel=MouadBoumediene-HobbyCoding\n",
      "https://github.com/ros2/ros2_documentation.git\n",
      "https://github.com/gazebosim/gz-sim.git\n",
      "https://www.youtube.com/watch?v=dQw4w9WgXcQ\n",
      "https://www.youtube.com/watch?v=_qQAfTmB5wc&ab_channel=MouadBoumediene-HobbyCoding\n",
      "https://github.com/ros2/ros2_documentation.git\n",
      "https://github.com/gazebosim/gz-sim.git\n",
      "https://www.youtube.com/watch?v=dQw4w9WgXcQ\n",
      "https://www.youtube.com/watch?v=_qQAfTmB5wc&ab_channel=MouadBoumediene-HobbyCoding\n",
      "https://github.com/ros2/ros2_documentation.git\n",
      "https://github.com/gazebosim/gz-sim.git\n",
      "https://www.youtube.com/watch?v=dQw4w9WgXcQ\n",
      "https://www.youtube.com/watch?v=_qQAfTmB5wc&ab_channel=MouadBoumediene-HobbyCoding\n",
      "https://github.com/ros2/ros2_documentation.git\n",
      "https://github.com/gazebosim/gz-sim.git\n",
      "https://www.youtube.com/watch?v=dQw4w9WgXcQ\n",
      "https://www.youtube.com/watch?v=_qQAfTmB5wc&ab_channel=MouadBoumediene-HobbyCoding\n"
     ]
    }
   ]
  },
  {
   "cell_type": "code",
   "outputs": [
    {
     "ename": "TypeError",
     "evalue": "Task.query_tasks() got an unexpected keyword argument 'status'",
     "output_type": "error",
     "traceback": [
      "\u001B[1;31m---------------------------------------------------------------------------\u001B[0m",
      "\u001B[1;31mTypeError\u001B[0m                                 Traceback (most recent call last)",
      "Cell \u001B[1;32mIn[6], line 4\u001B[0m\n\u001B[0;32m      1\u001B[0m \u001B[38;5;28;01mfrom\u001B[39;00m \u001B[38;5;21;01mclearml\u001B[39;00m \u001B[38;5;28;01mimport\u001B[39;00m Task\n\u001B[0;32m      3\u001B[0m \u001B[38;5;66;03m# Fetch tasks from the ClearML server\u001B[39;00m\n\u001B[1;32m----> 4\u001B[0m tasks \u001B[38;5;241m=\u001B[39m \u001B[43mTask\u001B[49m\u001B[38;5;241;43m.\u001B[39;49m\u001B[43mquery_tasks\u001B[49m\u001B[43m(\u001B[49m\u001B[43mstatus\u001B[49m\u001B[38;5;241;43m=\u001B[39;49m\u001B[43m[\u001B[49m\u001B[38;5;124;43m'\u001B[39;49m\u001B[38;5;124;43mcompleted\u001B[39;49m\u001B[38;5;124;43m'\u001B[39;49m\u001B[43m,\u001B[49m\u001B[43m \u001B[49m\u001B[38;5;124;43m'\u001B[39;49m\u001B[38;5;124;43min_progress\u001B[39;49m\u001B[38;5;124;43m'\u001B[39;49m\u001B[43m]\u001B[49m\u001B[43m)\u001B[49m\n\u001B[0;32m      5\u001B[0m \u001B[38;5;28;01mfor\u001B[39;00m task \u001B[38;5;129;01min\u001B[39;00m tasks:\n\u001B[0;32m      6\u001B[0m     \u001B[38;5;28mprint\u001B[39m(\u001B[38;5;124mf\u001B[39m\u001B[38;5;124m\"\u001B[39m\u001B[38;5;124mTask ID: \u001B[39m\u001B[38;5;132;01m{\u001B[39;00mtask\u001B[38;5;241m.\u001B[39mid\u001B[38;5;132;01m}\u001B[39;00m\u001B[38;5;124m, Task Name: \u001B[39m\u001B[38;5;132;01m{\u001B[39;00mtask\u001B[38;5;241m.\u001B[39mname\u001B[38;5;132;01m}\u001B[39;00m\u001B[38;5;124m, Status: \u001B[39m\u001B[38;5;132;01m{\u001B[39;00mtask\u001B[38;5;241m.\u001B[39mstatus\u001B[38;5;132;01m}\u001B[39;00m\u001B[38;5;124m\"\u001B[39m)\n",
      "\u001B[1;31mTypeError\u001B[0m: Task.query_tasks() got an unexpected keyword argument 'status'"
     ]
    }
   ],
   "source": [
    "from clearml import Task\n",
    "\n",
    "# Fetch tasks from the ClearML server\n",
    "tasks = Task.query_tasks(status=['completed', 'in_progress'])\n",
    "for task in tasks:\n",
    "    print(f\"Task ID: {task.id}, Task Name: {task.name}, Status: {task.status}\")\n"
   ],
   "metadata": {
    "collapsed": false,
    "ExecuteTime": {
     "end_time": "2024-12-09T03:33:00.017064Z",
     "start_time": "2024-12-09T03:32:57.912397Z"
    }
   },
   "execution_count": 6
  },
  {
   "cell_type": "code",
   "outputs": [],
   "source": [
    "from clearml import Task\n",
    "\n",
    "# Initialize ClearML Task\n",
    "task = Task.init(project_name=\"RAG_System\", task_name=\"ETL Pipeline\")\n",
    "\n",
    "# Log ingested URLs to ClearML\n",
    "task.get_logger().report_text(\"Ingested URLs:\\n\" + \"\\n\".join(urls))\n"
   ],
   "metadata": {
    "id": "e3VlUy4PRB7P",
    "ExecuteTime": {
     "start_time": "2024-12-09T03:33:00.019027Z"
    }
   },
   "execution_count": null
  }
 ]
}
