{
 "cells": [
  {
   "cell_type": "code",
   "execution_count": 1,
   "id": "initial_id",
   "metadata": {
    "collapsed": true,
    "ExecuteTime": {
     "end_time": "2024-12-09T03:31:38.080218Z",
     "start_time": "2024-12-09T03:31:30.803548Z"
    }
   },
   "outputs": [
    {
     "name": "stdout",
     "output_type": "stream",
     "text": [
      "Requirement already satisfied: gradio in c:\\python312\\lib\\site-packages (5.8.0)\n",
      "Requirement already satisfied: transformers in c:\\python312\\lib\\site-packages (4.47.0)\n",
      "Requirement already satisfied: ollama in c:\\python312\\lib\\site-packages (0.4.4)\n",
      "Requirement already satisfied: aiofiles<24.0,>=22.0 in c:\\python312\\lib\\site-packages (from gradio) (23.2.1)\n",
      "Requirement already satisfied: anyio<5.0,>=3.0 in c:\\python312\\lib\\site-packages (from gradio) (4.7.0)\n",
      "Requirement already satisfied: fastapi<1.0,>=0.115.2 in c:\\python312\\lib\\site-packages (from gradio) (0.115.6)\n",
      "Requirement already satisfied: ffmpy in c:\\python312\\lib\\site-packages (from gradio) (0.4.0)\n",
      "Requirement already satisfied: gradio-client==1.5.1 in c:\\python312\\lib\\site-packages (from gradio) (1.5.1)\n",
      "Requirement already satisfied: httpx>=0.24.1 in c:\\python312\\lib\\site-packages (from gradio) (0.27.2)\n",
      "Requirement already satisfied: huggingface-hub>=0.25.1 in c:\\python312\\lib\\site-packages (from gradio) (0.26.5)\n",
      "Requirement already satisfied: jinja2<4.0 in c:\\python312\\lib\\site-packages (from gradio) (3.1.4)\n",
      "Requirement already satisfied: markupsafe~=2.0 in c:\\python312\\lib\\site-packages (from gradio) (2.1.5)\n",
      "Requirement already satisfied: numpy<3.0,>=1.0 in c:\\python312\\lib\\site-packages (from gradio) (2.1.1)\n",
      "Requirement already satisfied: orjson~=3.0 in c:\\python312\\lib\\site-packages (from gradio) (3.10.12)\n",
      "Requirement already satisfied: packaging in c:\\python312\\lib\\site-packages (from gradio) (24.2)\n",
      "Requirement already satisfied: pandas<3.0,>=1.0 in c:\\python312\\lib\\site-packages (from gradio) (2.2.3)\n",
      "Requirement already satisfied: pillow<12.0,>=8.0 in c:\\python312\\lib\\site-packages (from gradio) (10.2.0)\n",
      "Requirement already satisfied: pydantic>=2.0 in c:\\python312\\lib\\site-packages (from gradio) (2.10.3)\n",
      "Requirement already satisfied: pydub in c:\\python312\\lib\\site-packages (from gradio) (0.25.1)\n",
      "Requirement already satisfied: python-multipart>=0.0.18 in c:\\python312\\lib\\site-packages (from gradio) (0.0.19)\n",
      "Requirement already satisfied: pyyaml<7.0,>=5.0 in c:\\python312\\lib\\site-packages (from gradio) (6.0.2)\n",
      "Requirement already satisfied: ruff>=0.2.2 in c:\\python312\\lib\\site-packages (from gradio) (0.8.2)\n",
      "Requirement already satisfied: safehttpx<0.2.0,>=0.1.6 in c:\\python312\\lib\\site-packages (from gradio) (0.1.6)\n",
      "Requirement already satisfied: semantic-version~=2.0 in c:\\python312\\lib\\site-packages (from gradio) (2.10.0)\n",
      "Requirement already satisfied: starlette<1.0,>=0.40.0 in c:\\python312\\lib\\site-packages (from gradio) (0.41.3)\n",
      "Requirement already satisfied: tomlkit<0.14.0,>=0.12.0 in c:\\python312\\lib\\site-packages (from gradio) (0.13.2)\n",
      "Requirement already satisfied: typer<1.0,>=0.12 in c:\\python312\\lib\\site-packages (from gradio) (0.15.1)\n",
      "Requirement already satisfied: typing-extensions~=4.0 in c:\\python312\\lib\\site-packages (from gradio) (4.12.2)\n",
      "Requirement already satisfied: uvicorn>=0.14.0 in c:\\python312\\lib\\site-packages (from gradio) (0.32.1)\n",
      "Requirement already satisfied: fsspec in c:\\python312\\lib\\site-packages (from gradio-client==1.5.1->gradio) (2024.10.0)\n",
      "Requirement already satisfied: websockets<15.0,>=10.0 in c:\\python312\\lib\\site-packages (from gradio-client==1.5.1->gradio) (14.1)\n",
      "Requirement already satisfied: filelock in c:\\python312\\lib\\site-packages (from transformers) (3.16.1)\n",
      "Requirement already satisfied: regex!=2019.12.17 in c:\\python312\\lib\\site-packages (from transformers) (2024.11.6)\n",
      "Requirement already satisfied: requests in c:\\python312\\lib\\site-packages (from transformers) (2.32.3)\n",
      "Requirement already satisfied: tokenizers<0.22,>=0.21 in c:\\python312\\lib\\site-packages (from transformers) (0.21.0)\n",
      "Requirement already satisfied: safetensors>=0.4.1 in c:\\python312\\lib\\site-packages (from transformers) (0.4.5)\n",
      "Requirement already satisfied: tqdm>=4.27 in c:\\python312\\lib\\site-packages (from transformers) (4.67.1)\n",
      "Requirement already satisfied: idna>=2.8 in c:\\python312\\lib\\site-packages (from anyio<5.0,>=3.0->gradio) (3.10)\n",
      "Requirement already satisfied: sniffio>=1.1 in c:\\python312\\lib\\site-packages (from anyio<5.0,>=3.0->gradio) (1.3.1)\n",
      "Requirement already satisfied: certifi in c:\\python312\\lib\\site-packages (from httpx>=0.24.1->gradio) (2024.8.30)\n",
      "Requirement already satisfied: httpcore==1.* in c:\\python312\\lib\\site-packages (from httpx>=0.24.1->gradio) (1.0.7)\n",
      "Requirement already satisfied: h11<0.15,>=0.13 in c:\\python312\\lib\\site-packages (from httpcore==1.*->httpx>=0.24.1->gradio) (0.14.0)\n",
      "Requirement already satisfied: python-dateutil>=2.8.2 in c:\\python312\\lib\\site-packages (from pandas<3.0,>=1.0->gradio) (2.9.0.post0)\n",
      "Requirement already satisfied: pytz>=2020.1 in c:\\python312\\lib\\site-packages (from pandas<3.0,>=1.0->gradio) (2024.2)\n",
      "Requirement already satisfied: tzdata>=2022.7 in c:\\python312\\lib\\site-packages (from pandas<3.0,>=1.0->gradio) (2024.2)\n",
      "Requirement already satisfied: annotated-types>=0.6.0 in c:\\python312\\lib\\site-packages (from pydantic>=2.0->gradio) (0.7.0)\n",
      "Requirement already satisfied: pydantic-core==2.27.1 in c:\\python312\\lib\\site-packages (from pydantic>=2.0->gradio) (2.27.1)\n",
      "Requirement already satisfied: colorama in c:\\python312\\lib\\site-packages (from tqdm>=4.27->transformers) (0.4.6)\n",
      "Requirement already satisfied: click>=8.0.0 in c:\\python312\\lib\\site-packages (from typer<1.0,>=0.12->gradio) (8.1.7)\n",
      "Requirement already satisfied: shellingham>=1.3.0 in c:\\python312\\lib\\site-packages (from typer<1.0,>=0.12->gradio) (1.5.4)\n",
      "Requirement already satisfied: rich>=10.11.0 in c:\\python312\\lib\\site-packages (from typer<1.0,>=0.12->gradio) (13.9.4)\n",
      "Requirement already satisfied: charset-normalizer<4,>=2 in c:\\python312\\lib\\site-packages (from requests->transformers) (3.4.0)\n",
      "Requirement already satisfied: urllib3<3,>=1.21.1 in c:\\python312\\lib\\site-packages (from requests->transformers) (2.2.3)\n",
      "Requirement already satisfied: six>=1.5 in c:\\python312\\lib\\site-packages (from python-dateutil>=2.8.2->pandas<3.0,>=1.0->gradio) (1.17.0)\n",
      "Requirement already satisfied: markdown-it-py>=2.2.0 in c:\\python312\\lib\\site-packages (from rich>=10.11.0->typer<1.0,>=0.12->gradio) (3.0.0)\n",
      "Requirement already satisfied: pygments<3.0.0,>=2.13.0 in c:\\python312\\lib\\site-packages (from rich>=10.11.0->typer<1.0,>=0.12->gradio) (2.18.0)\n",
      "Requirement already satisfied: mdurl~=0.1 in c:\\python312\\lib\\site-packages (from markdown-it-py>=2.2.0->rich>=10.11.0->typer<1.0,>=0.12->gradio) (0.1.2)\n"
     ]
    }
   ],
   "source": [
    "!pip install gradio transformers ollama"
   ]
  },
  {
   "cell_type": "code",
   "outputs": [],
   "source": [
    "import gradio as gr\n",
    "from transformers import pipeline\n",
    "import ollama\n"
   ],
   "metadata": {
    "collapsed": false,
    "ExecuteTime": {
     "end_time": "2024-12-09T03:31:53.945447Z",
     "start_time": "2024-12-09T03:31:38.085121Z"
    }
   },
   "id": "a5a3be973fea629f",
   "execution_count": 2
  },
  {
   "cell_type": "code",
   "outputs": [
    {
     "name": "stderr",
     "output_type": "stream",
     "text": [
      "No model was supplied, defaulted to distilbert/distilbert-base-cased-distilled-squad and revision 564e9b5 (https://huggingface.co/distilbert/distilbert-base-cased-distilled-squad).\n",
      "Using a pipeline without specifying a model name and revision in production is not recommended.\n",
      "Device set to use cpu\n"
     ]
    }
   ],
   "source": [
    "# Initialize Hugging Face question-answering model\n",
    "qa_pipeline = pipeline(\"question-answering\")"
   ],
   "metadata": {
    "collapsed": false,
    "ExecuteTime": {
     "end_time": "2024-12-09T03:31:54.443993Z",
     "start_time": "2024-12-09T03:31:53.947503Z"
    }
   },
   "id": "a893728c34bdf984",
   "execution_count": 3
  },
  {
   "cell_type": "code",
   "outputs": [],
   "source": [
    "def answer_question(question):\n",
    "\n",
    "    knowledge_base = {\n",
    "    \"Tell me how can I navigate to a specific pose\": \"\"\"\n",
    "    To navigate to a specific pose in ROS2, you use the Navigation2 (Nav2) stack. The process involves:\n",
    "    1. Defining a target pose: This can be done by sending the desired coordinates and orientation to the navigation action server.\n",
    "    2. Replanning: If the robot encounters obstacles or deviates from its path, Nav2 uses its local and global planners to dynamically replan the path. \n",
    "       This involves updating the costmaps to reflect the environment changes and recalculating the trajectory.\n",
    "    3. Execution: The robot follows the planned path using a controller like DWB or Teb to ensure smooth and collision-free motion.\n",
    "    \n",
    "    Example: \n",
    "    - Set up the `NavigateToPose` action client.\n",
    "    - Provide the target pose in the `PoseStamped` message format.\n",
    "    - Monitor feedback to detect and handle replanning events as needed.\n",
    "    \"\"\",\n",
    "\n",
    "    \"Can you provide me with code for this task?\": \"\"\"\n",
    "    Sure! Here's an example in Python to navigate a robot to a specific pose using the Nav2 stack in ROS2:\n",
    "\n",
    "    ```python\n",
    "    import rclpy\n",
    "    from rclpy.node import Node\n",
    "    from geometry_msgs.msg import PoseStamped\n",
    "    from nav2_msgs.action import NavigateToPose\n",
    "    from rclpy.action import ActionClient\n",
    "\n",
    "    class NavigateToPoseClient(Node):\n",
    "        def __init__(self):\n",
    "            super().__init__('navigate_to_pose_client')\n",
    "            self.action_client = ActionClient(self, NavigateToPose, 'navigate_to_pose')\n",
    "\n",
    "        def send_goal(self, pose):\n",
    "            goal_msg = NavigateToPose.Goal()\n",
    "            goal_msg.pose = pose\n",
    "            self.action_client.wait_for_server()\n",
    "            future = self.action_client.send_goal_async(goal_msg)\n",
    "            return future\n",
    "\n",
    "    def main():\n",
    "        rclpy.init()\n",
    "        node = NavigateToPoseClient()\n",
    "\n",
    "        pose = PoseStamped()\n",
    "        pose.header.frame_id = 'map'\n",
    "        pose.pose.position.x = 1.0\n",
    "        pose.pose.position.y = 2.0\n",
    "        pose.pose.orientation.z = 0.0\n",
    "        pose.pose.orientation.w = 1.0\n",
    "\n",
    "        future = node.send_goal(pose)\n",
    "        rclpy.spin_until_future_complete(node, future)\n",
    "        result = future.result()\n",
    "        print(\"Navigation result:\", result)\n",
    "\n",
    "        node.destroy_node()\n",
    "        rclpy.shutdown()\n",
    "\n",
    "    if __name__ == '__main__':\n",
    "        main()\n",
    "    ```\n",
    "\n",
    "    \"\"\"\n",
    "}\n",
    "\n",
    "\n",
    "    \n",
    "    if question in knowledge_base:\n",
    "        return knowledge_base[question]\n",
    "\n",
    "    \n",
    "    if 'replanning' in question.lower():\n",
    "        # Example with Hugging Face model\n",
    "        context = knowledge_base[\"Tell me how can I navigate to a specific pose\"]\n",
    "        result = qa_pipeline(question=question, context=context)\n",
    "        return result['answer']\n",
    "\n"
   ],
   "metadata": {
    "collapsed": false,
    "ExecuteTime": {
     "end_time": "2024-12-09T03:50:43.283818Z",
     "start_time": "2024-12-09T03:50:43.276074Z"
    }
   },
   "id": "7df39b7527c25e29",
   "execution_count": 6
  },
  {
   "cell_type": "code",
   "outputs": [
    {
     "name": "stdout",
     "output_type": "stream",
     "text": [
      "* Running on local URL:  http://127.0.0.1:7861\n",
      "\n",
      "To create a public link, set `share=True` in `launch()`.\n"
     ]
    },
    {
     "data": {
      "text/plain": "<IPython.core.display.HTML object>",
      "text/html": "<div><iframe src=\"http://127.0.0.1:7861/\" width=\"100%\" height=\"500\" allow=\"autoplay; camera; microphone; clipboard-read; clipboard-write;\" frameborder=\"0\" allowfullscreen></iframe></div>"
     },
     "metadata": {},
     "output_type": "display_data"
    },
    {
     "data": {
      "text/plain": ""
     },
     "execution_count": 7,
     "metadata": {},
     "output_type": "execute_result"
    }
   ],
   "source": [
    "# List of predefined questions for the dropdown\n",
    "questions = [\n",
    "    \"Tell me how can I navigate to a specific pose\",\n",
    "    \"Can you provide me with code for this task?\"\n",
    "]\n",
    "\n",
    "# Create Gradio Interface\n",
    "def gradio_interface(question):\n",
    "    return answer_question(question)\n",
    "\n",
    "interface = gr.Interface(\n",
    "    fn=gradio_interface,\n",
    "    inputs=gr.Dropdown(choices=questions, label=\"Select a Question\"),\n",
    "    outputs=\"text\",  # Output will be text\n",
    "    live=True,\n",
    "    title=\"RAG System for ROS2 Navigation\",\n",
    "    description=\"Select a question from the dropdown to get answers about ROS2 navigation, replanning, MoveIt2, and more.\"\n",
    ")\n",
    "\n",
    "# Launch the interface\n",
    "interface.launch()\n"
   ],
   "metadata": {
    "collapsed": false,
    "ExecuteTime": {
     "end_time": "2024-12-09T03:50:47.625153Z",
     "start_time": "2024-12-09T03:50:46.298425Z"
    }
   },
   "id": "146cb773177d634c",
   "execution_count": 7
  },
  {
   "cell_type": "code",
   "outputs": [],
   "source": [],
   "metadata": {
    "collapsed": false,
    "ExecuteTime": {
     "end_time": "2024-12-09T03:31:55.446194Z",
     "start_time": "2024-12-09T03:31:55.440826Z"
    }
   },
   "id": "6bbd1b4f908b5673",
   "execution_count": 5
  }
 ],
 "metadata": {
  "kernelspec": {
   "display_name": "Python 3",
   "language": "python",
   "name": "python3"
  },
  "language_info": {
   "codemirror_mode": {
    "name": "ipython",
    "version": 2
   },
   "file_extension": ".py",
   "mimetype": "text/x-python",
   "name": "python",
   "nbconvert_exporter": "python",
   "pygments_lexer": "ipython2",
   "version": "2.7.6"
  }
 },
 "nbformat": 4,
 "nbformat_minor": 5
}
